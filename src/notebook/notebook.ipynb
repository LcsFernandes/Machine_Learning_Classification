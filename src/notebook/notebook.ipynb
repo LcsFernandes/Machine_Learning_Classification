{
 "cells": [
  {
   "cell_type": "code",
   "execution_count": 1,
   "metadata": {},
   "outputs": [],
   "source": [
    "from faker import Faker\n",
    "import random\n",
    "import sqlite3"
   ]
  },
  {
   "cell_type": "code",
   "execution_count": 2,
   "metadata": {},
   "outputs": [
    {
     "name": "stdout",
     "output_type": "stream",
     "text": [
      "690.243.518-98\n",
      "Sr. Thiago Carvalho\n",
      "Escoteiro\n",
      "1967-12-04\n",
      "Solteiro(a)\n",
      "Setor Juan das Neves, 2\n",
      "São Luiz\n",
      "78156-593 Macedo de Moreira / GO\n",
      "False\n"
     ]
    }
   ],
   "source": [
    "situacao_civil = ['Solteiro(a)', 'Casado(a)', 'Divorsiado(a)']\n",
    "fake = Faker('pt_BR')\n",
    "Faker.seed(0)\n",
    "\n",
    "cpf = fake.cpf()\n",
    "nome_completo = fake.name()\n",
    "emprego_atual = fake.job()\n",
    "data_nascimento = fake.date_of_birth(minimum_age = 18, maximum_age = 65)\n",
    "situacao_civil = random.choice(situacao_civil)\n",
    "endereco = fake.address()\n",
    "cliente_especial = random.choices([True, False], weights=[0.05, 0.95])[0]\n",
    "\n",
    "\n",
    "print(cpf)\n",
    "print(nome_completo)\n",
    "print(emprego_atual)\n",
    "print(data_nascimento)\n",
    "print(situacao_civil)\n",
    "print(endereco)\n",
    "print(cliente_especial)"
   ]
  },
  {
   "cell_type": "code",
   "execution_count": 3,
   "metadata": {},
   "outputs": [
    {
     "data": {
      "text/plain": [
       "('089.753.621-59',\n",
       " 'Sr. Luan Santos',\n",
       " 'Atendente',\n",
       " datetime.date(1971, 5, 7),\n",
       " 'Divorsiado(a)',\n",
       " 'Setor Machado, 2\\nLagoinha Leblon\\n14841-858 Pereira / PI',\n",
       " '0')"
      ]
     },
     "execution_count": 3,
     "metadata": {},
     "output_type": "execute_result"
    }
   ],
   "source": [
    "def gerar_dados_sinteticos(n):\n",
    "\n",
    "    fake = Faker('pt_BR')\n",
    "\n",
    "    cpf = fake.cpf()\n",
    "    nome_completo = fake.name()\n",
    "    emprego_atual = fake.job()\n",
    "    data_nascimento = fake.date_of_birth(minimum_age = 18, maximum_age = 65)\n",
    "    situacao_civil = random.choice(['Solteiro(a)', 'Casado(a)', 'Divorsiado(a)'])\n",
    "    endereco = fake.address()\n",
    "    cliente_especial = str(random.choices([1, 0], weights=[0.05, 0.95])[0])\n",
    "\n",
    "    dados = (cpf, nome_completo, emprego_atual, data_nascimento, situacao_civil, endereco, cliente_especial)\n",
    "    return dados\n",
    "gerar_dados_sinteticos(0)"
   ]
  },
  {
   "cell_type": "code",
   "execution_count": null,
   "metadata": {},
   "outputs": [],
   "source": []
  },
  {
   "cell_type": "code",
   "execution_count": 4,
   "metadata": {},
   "outputs": [],
   "source": [
    "try:\n",
    "    conn = sqlite3.connect('database.db')\n",
    "    cursor = conn.cursor()\n",
    "\n",
    "    cursor.execute(\"\"\"\n",
    "        CREATE TABLE IF NOT EXISTS \"clientes\"(\n",
    "            \"id\" INTEGER NOT NULL PRIMARY KEY AUTOINCREMENT,\n",
    "            \"cpf\" TEXT NOT NULL UNIQUE,\n",
    "            \"nome_completo\" TEXT NOT NULL,\n",
    "            \"emprego_atual\" TEXT NOT NULL,\n",
    "            \"data_nascimento\" DATE NOT NULL,\n",
    "            \"situacao_civil\" TEXT NOT NULL,\n",
    "            \"endereco\" TEXT NOT NULL,\n",
    "            \"cliente_especial\" INTEGER NOT NULL CHECK (cliente_especial IN (0, 1))\n",
    "    );\n",
    "    \"\"\")\n",
    "\n",
    "    clientes = []\n",
    "    for i in range(5000):\n",
    "        novo_cliente = gerar_dados_sinteticos(i)\n",
    "        while True:\n",
    "            try:\n",
    "                cursor.execute('''INSERT INTO clientes (cpf, nome_completo, emprego_atual, data_nascimento, situacao_civil, endereco, cliente_especial) \n",
    "                               VALUES (?, ?, ?, ?, ?, ?, ?)''', novo_cliente)\n",
    "                conn.commit()\n",
    "                clientes.append(novo_cliente)\n",
    "                break\n",
    "            except sqlite3.IntegrityError:  # Captura a exceção de violação de restrição UNIQUE\n",
    "                novo_cliente = gerar_dados_sinteticos(i)\n",
    "\n",
    "except Exception as exception:\n",
    "    if cursor:\n",
    "        conn.rollback()\n",
    "    raise exception\n",
    "    \n",
    "finally:\n",
    "    if cursor:\n",
    "        conn.close()"
   ]
  },
  {
   "cell_type": "code",
   "execution_count": null,
   "metadata": {},
   "outputs": [],
   "source": []
  },
  {
   "cell_type": "markdown",
   "metadata": {},
   "source": [
    "# PREPARAÇÃO DOS DADOS"
   ]
  },
  {
   "cell_type": "code",
   "execution_count": 2,
   "metadata": {},
   "outputs": [],
   "source": [
    "import sqlite3\n",
    "import pandas as pd\n",
    "import numpy as np\n",
    "import datetime\n",
    "from sklearn.model_selection import train_test_split\n",
    "from sklearn.linear_model import LogisticRegression\n",
    "from sklearn.metrics import accuracy_score, classification_report, roc_curve, auc, roc_auc_score, confusion_matrix\n",
    "import matplotlib.pyplot as plt\n",
    "import seaborn as sns\n",
    "from sklearn.model_selection import GridSearchCV\n",
    "from sklearn.preprocessing import StandardScaler, OneHotEncoder\n",
    "from sklearn.model_selection import cross_val_predict\n",
    "from sklearn.decomposition import PCA\n",
    "from imblearn.over_sampling import SMOTE\n",
    "from sklearn.pipeline import Pipeline\n",
    "\n",
    "\n"
   ]
  },
  {
   "cell_type": "code",
   "execution_count": 2,
   "metadata": {},
   "outputs": [
    {
     "data": {
      "text/html": [
       "<div>\n",
       "<style scoped>\n",
       "    .dataframe tbody tr th:only-of-type {\n",
       "        vertical-align: middle;\n",
       "    }\n",
       "\n",
       "    .dataframe tbody tr th {\n",
       "        vertical-align: top;\n",
       "    }\n",
       "\n",
       "    .dataframe thead th {\n",
       "        text-align: right;\n",
       "    }\n",
       "</style>\n",
       "<table border=\"1\" class=\"dataframe\">\n",
       "  <thead>\n",
       "    <tr style=\"text-align: right;\">\n",
       "      <th></th>\n",
       "      <th>id</th>\n",
       "      <th>cpf</th>\n",
       "      <th>nome_completo</th>\n",
       "      <th>emprego_atual</th>\n",
       "      <th>data_nascimento</th>\n",
       "      <th>situacao_civil</th>\n",
       "      <th>endereco</th>\n",
       "      <th>cliente_especial</th>\n",
       "    </tr>\n",
       "  </thead>\n",
       "  <tbody>\n",
       "    <tr>\n",
       "      <th>0</th>\n",
       "      <td>1</td>\n",
       "      <td>576.182.430-26</td>\n",
       "      <td>Pedro Sousa</td>\n",
       "      <td>Governador</td>\n",
       "      <td>1973-02-19</td>\n",
       "      <td>Casado(a)</td>\n",
       "      <td>Via Arthur Miguel Vargas\\nVila Jardim São José...</td>\n",
       "      <td>0</td>\n",
       "    </tr>\n",
       "    <tr>\n",
       "      <th>1</th>\n",
       "      <td>2</td>\n",
       "      <td>894.270.316-03</td>\n",
       "      <td>João Felipe Siqueira</td>\n",
       "      <td>Figurinista</td>\n",
       "      <td>1991-04-29</td>\n",
       "      <td>Casado(a)</td>\n",
       "      <td>Fazenda de Pimenta, 39\\nAlta Tensão 1ª Seção\\n...</td>\n",
       "      <td>0</td>\n",
       "    </tr>\n",
       "    <tr>\n",
       "      <th>2</th>\n",
       "      <td>3</td>\n",
       "      <td>476.981.053-93</td>\n",
       "      <td>Letícia Cassiano</td>\n",
       "      <td>Designer de produto ou desenhista industrial</td>\n",
       "      <td>1983-10-23</td>\n",
       "      <td>Solteiro(a)</td>\n",
       "      <td>Via de Lima, 2\\nSão Vicente\\n23841-756 Pires d...</td>\n",
       "      <td>0</td>\n",
       "    </tr>\n",
       "    <tr>\n",
       "      <th>3</th>\n",
       "      <td>4</td>\n",
       "      <td>835.617.024-90</td>\n",
       "      <td>Sr. Pedro Miguel Nunes</td>\n",
       "      <td>Operador de telemarketing</td>\n",
       "      <td>1997-07-15</td>\n",
       "      <td>Casado(a)</td>\n",
       "      <td>Morro de Ferreira, 67\\nSão Bernardo\\n35532640 ...</td>\n",
       "      <td>0</td>\n",
       "    </tr>\n",
       "    <tr>\n",
       "      <th>4</th>\n",
       "      <td>5</td>\n",
       "      <td>940.532.861-15</td>\n",
       "      <td>Vinicius Pinto</td>\n",
       "      <td>Aviador</td>\n",
       "      <td>2006-05-26</td>\n",
       "      <td>Divorsiado(a)</td>\n",
       "      <td>Viela Maria Luísa Pinto, 73\\nMinas Brasil\\n110...</td>\n",
       "      <td>0</td>\n",
       "    </tr>\n",
       "  </tbody>\n",
       "</table>\n",
       "</div>"
      ],
      "text/plain": [
       "   id             cpf           nome_completo  \\\n",
       "0   1  576.182.430-26             Pedro Sousa   \n",
       "1   2  894.270.316-03    João Felipe Siqueira   \n",
       "2   3  476.981.053-93        Letícia Cassiano   \n",
       "3   4  835.617.024-90  Sr. Pedro Miguel Nunes   \n",
       "4   5  940.532.861-15          Vinicius Pinto   \n",
       "\n",
       "                                  emprego_atual data_nascimento  \\\n",
       "0                                    Governador      1973-02-19   \n",
       "1                                   Figurinista      1991-04-29   \n",
       "2  Designer de produto ou desenhista industrial      1983-10-23   \n",
       "3                     Operador de telemarketing      1997-07-15   \n",
       "4                                       Aviador      2006-05-26   \n",
       "\n",
       "  situacao_civil                                           endereco  \\\n",
       "0      Casado(a)  Via Arthur Miguel Vargas\\nVila Jardim São José...   \n",
       "1      Casado(a)  Fazenda de Pimenta, 39\\nAlta Tensão 1ª Seção\\n...   \n",
       "2    Solteiro(a)  Via de Lima, 2\\nSão Vicente\\n23841-756 Pires d...   \n",
       "3      Casado(a)  Morro de Ferreira, 67\\nSão Bernardo\\n35532640 ...   \n",
       "4  Divorsiado(a)  Viela Maria Luísa Pinto, 73\\nMinas Brasil\\n110...   \n",
       "\n",
       "   cliente_especial  \n",
       "0                 0  \n",
       "1                 0  \n",
       "2                 0  \n",
       "3                 0  \n",
       "4                 0  "
      ]
     },
     "execution_count": 2,
     "metadata": {},
     "output_type": "execute_result"
    }
   ],
   "source": [
    "try:\n",
    "    conn = sqlite3.connect('database.db')\n",
    "    df = pd.read_sql_query(\"SELECT * FROM clientes\",conn)\n",
    "except Exception as exception:\n",
    "    if conn:\n",
    "        conn.close()\n",
    "    raise exception\n",
    "finally:\n",
    "    if conn:\n",
    "        conn.close()\n",
    "\n",
    "df.head()"
   ]
  },
  {
   "cell_type": "code",
   "execution_count": 3,
   "metadata": {},
   "outputs": [],
   "source": [
    "def extrair_endereco(endereco):\n",
    "    partes = endereco.split('\\n')\n",
    "    \n",
    "    # Se houver pelo menos três partes (rua, bairro e cidade/estado)\n",
    "    if len(partes) >= 3:\n",
    "        rua_numero = partes[0].split(',')\n",
    "        if len(rua_numero) == 2:\n",
    "            rua = rua_numero[0].strip()\n",
    "        else:\n",
    "            rua = partes[0].strip()\n",
    "            \n",
    "        \n",
    "        bairro = partes[1].strip()\n",
    "        cidade_cep = partes[2].split(' ')\n",
    "        cep = cidade_cep[0] \n",
    "        cidade = ' '.join(cidade_cep[1:-2])\n",
    "        estado = cidade_cep[-1]\n",
    "        \n",
    "        return rua, bairro, cidade, estado, cep\n",
    "    else:\n",
    "        return None, None, None, None, None"
   ]
  },
  {
   "cell_type": "code",
   "execution_count": 4,
   "metadata": {},
   "outputs": [
    {
     "data": {
      "text/html": [
       "<div>\n",
       "<style scoped>\n",
       "    .dataframe tbody tr th:only-of-type {\n",
       "        vertical-align: middle;\n",
       "    }\n",
       "\n",
       "    .dataframe tbody tr th {\n",
       "        vertical-align: top;\n",
       "    }\n",
       "\n",
       "    .dataframe thead th {\n",
       "        text-align: right;\n",
       "    }\n",
       "</style>\n",
       "<table border=\"1\" class=\"dataframe\">\n",
       "  <thead>\n",
       "    <tr style=\"text-align: right;\">\n",
       "      <th></th>\n",
       "      <th>id</th>\n",
       "      <th>cpf</th>\n",
       "      <th>nome_completo</th>\n",
       "      <th>emprego_atual</th>\n",
       "      <th>data_nascimento</th>\n",
       "      <th>situacao_civil</th>\n",
       "      <th>endereco</th>\n",
       "      <th>cliente_especial</th>\n",
       "      <th>rua</th>\n",
       "      <th>bairro</th>\n",
       "      <th>cidade</th>\n",
       "      <th>estado</th>\n",
       "      <th>CEP</th>\n",
       "    </tr>\n",
       "  </thead>\n",
       "  <tbody>\n",
       "    <tr>\n",
       "      <th>0</th>\n",
       "      <td>1</td>\n",
       "      <td>576.182.430-26</td>\n",
       "      <td>Pedro Sousa</td>\n",
       "      <td>Governador</td>\n",
       "      <td>1973-02-19</td>\n",
       "      <td>Casado(a)</td>\n",
       "      <td>Via Arthur Miguel Vargas\\nVila Jardim São José...</td>\n",
       "      <td>0</td>\n",
       "      <td>Via Arthur Miguel Vargas</td>\n",
       "      <td>Vila Jardim São José</td>\n",
       "      <td>Pereira</td>\n",
       "      <td>AP</td>\n",
       "      <td>45154736</td>\n",
       "    </tr>\n",
       "    <tr>\n",
       "      <th>1</th>\n",
       "      <td>2</td>\n",
       "      <td>894.270.316-03</td>\n",
       "      <td>João Felipe Siqueira</td>\n",
       "      <td>Figurinista</td>\n",
       "      <td>1991-04-29</td>\n",
       "      <td>Casado(a)</td>\n",
       "      <td>Fazenda de Pimenta, 39\\nAlta Tensão 1ª Seção\\n...</td>\n",
       "      <td>0</td>\n",
       "      <td>Fazenda de Pimenta</td>\n",
       "      <td>Alta Tensão 1ª Seção</td>\n",
       "      <td>da Conceição da Prata</td>\n",
       "      <td>SC</td>\n",
       "      <td>84161-002</td>\n",
       "    </tr>\n",
       "    <tr>\n",
       "      <th>2</th>\n",
       "      <td>3</td>\n",
       "      <td>476.981.053-93</td>\n",
       "      <td>Letícia Cassiano</td>\n",
       "      <td>Designer de produto ou desenhista industrial</td>\n",
       "      <td>1983-10-23</td>\n",
       "      <td>Solteiro(a)</td>\n",
       "      <td>Via de Lima, 2\\nSão Vicente\\n23841-756 Pires d...</td>\n",
       "      <td>0</td>\n",
       "      <td>Via de Lima</td>\n",
       "      <td>São Vicente</td>\n",
       "      <td>Pires de Minas</td>\n",
       "      <td>SC</td>\n",
       "      <td>23841-756</td>\n",
       "    </tr>\n",
       "    <tr>\n",
       "      <th>3</th>\n",
       "      <td>4</td>\n",
       "      <td>835.617.024-90</td>\n",
       "      <td>Sr. Pedro Miguel Nunes</td>\n",
       "      <td>Operador de telemarketing</td>\n",
       "      <td>1997-07-15</td>\n",
       "      <td>Casado(a)</td>\n",
       "      <td>Morro de Ferreira, 67\\nSão Bernardo\\n35532640 ...</td>\n",
       "      <td>0</td>\n",
       "      <td>Morro de Ferreira</td>\n",
       "      <td>São Bernardo</td>\n",
       "      <td>Fogaça do Oeste</td>\n",
       "      <td>PI</td>\n",
       "      <td>35532640</td>\n",
       "    </tr>\n",
       "    <tr>\n",
       "      <th>4</th>\n",
       "      <td>5</td>\n",
       "      <td>940.532.861-15</td>\n",
       "      <td>Vinicius Pinto</td>\n",
       "      <td>Aviador</td>\n",
       "      <td>2006-05-26</td>\n",
       "      <td>Divorsiado(a)</td>\n",
       "      <td>Viela Maria Luísa Pinto, 73\\nMinas Brasil\\n110...</td>\n",
       "      <td>0</td>\n",
       "      <td>Viela Maria Luísa Pinto</td>\n",
       "      <td>Minas Brasil</td>\n",
       "      <td>Pires</td>\n",
       "      <td>PB</td>\n",
       "      <td>11031656</td>\n",
       "    </tr>\n",
       "  </tbody>\n",
       "</table>\n",
       "</div>"
      ],
      "text/plain": [
       "   id             cpf           nome_completo  \\\n",
       "0   1  576.182.430-26             Pedro Sousa   \n",
       "1   2  894.270.316-03    João Felipe Siqueira   \n",
       "2   3  476.981.053-93        Letícia Cassiano   \n",
       "3   4  835.617.024-90  Sr. Pedro Miguel Nunes   \n",
       "4   5  940.532.861-15          Vinicius Pinto   \n",
       "\n",
       "                                  emprego_atual data_nascimento  \\\n",
       "0                                    Governador      1973-02-19   \n",
       "1                                   Figurinista      1991-04-29   \n",
       "2  Designer de produto ou desenhista industrial      1983-10-23   \n",
       "3                     Operador de telemarketing      1997-07-15   \n",
       "4                                       Aviador      2006-05-26   \n",
       "\n",
       "  situacao_civil                                           endereco  \\\n",
       "0      Casado(a)  Via Arthur Miguel Vargas\\nVila Jardim São José...   \n",
       "1      Casado(a)  Fazenda de Pimenta, 39\\nAlta Tensão 1ª Seção\\n...   \n",
       "2    Solteiro(a)  Via de Lima, 2\\nSão Vicente\\n23841-756 Pires d...   \n",
       "3      Casado(a)  Morro de Ferreira, 67\\nSão Bernardo\\n35532640 ...   \n",
       "4  Divorsiado(a)  Viela Maria Luísa Pinto, 73\\nMinas Brasil\\n110...   \n",
       "\n",
       "   cliente_especial                       rua                bairro  \\\n",
       "0                 0  Via Arthur Miguel Vargas  Vila Jardim São José   \n",
       "1                 0        Fazenda de Pimenta  Alta Tensão 1ª Seção   \n",
       "2                 0               Via de Lima           São Vicente   \n",
       "3                 0         Morro de Ferreira          São Bernardo   \n",
       "4                 0   Viela Maria Luísa Pinto          Minas Brasil   \n",
       "\n",
       "                  cidade estado        CEP  \n",
       "0                Pereira     AP   45154736  \n",
       "1  da Conceição da Prata     SC  84161-002  \n",
       "2         Pires de Minas     SC  23841-756  \n",
       "3        Fogaça do Oeste     PI   35532640  \n",
       "4                  Pires     PB   11031656  "
      ]
     },
     "execution_count": 4,
     "metadata": {},
     "output_type": "execute_result"
    }
   ],
   "source": [
    "endereco = df['endereco']\n",
    "ruas, bairros, cidades, estados, ceps = [], [], [], [], []\n",
    "\n",
    "for i in range(len(endereco)):\n",
    "    rua, bairro, cidade, estado, cep = extrair_endereco(endereco[i])\n",
    "    ruas.append(rua)\n",
    "    bairros.append(bairro)\n",
    "    cidades.append(cidade)\n",
    "    estados.append(estado)\n",
    "    ceps.append(cep)\n",
    "\n",
    "\n",
    "df['rua'] = ruas\n",
    "df['bairro'] = bairros\n",
    "df['cidade'] = cidades\n",
    "df['estado'] = estados\n",
    "df['CEP'] = ceps\n",
    "\n",
    "df.head()"
   ]
  },
  {
   "cell_type": "code",
   "execution_count": 5,
   "metadata": {},
   "outputs": [
    {
     "data": {
      "text/html": [
       "<div>\n",
       "<style scoped>\n",
       "    .dataframe tbody tr th:only-of-type {\n",
       "        vertical-align: middle;\n",
       "    }\n",
       "\n",
       "    .dataframe tbody tr th {\n",
       "        vertical-align: top;\n",
       "    }\n",
       "\n",
       "    .dataframe thead th {\n",
       "        text-align: right;\n",
       "    }\n",
       "</style>\n",
       "<table border=\"1\" class=\"dataframe\">\n",
       "  <thead>\n",
       "    <tr style=\"text-align: right;\">\n",
       "      <th></th>\n",
       "      <th>id</th>\n",
       "      <th>cpf</th>\n",
       "      <th>nome_completo</th>\n",
       "      <th>emprego_atual</th>\n",
       "      <th>data_nascimento</th>\n",
       "      <th>situacao_civil</th>\n",
       "      <th>endereco</th>\n",
       "      <th>cliente_especial</th>\n",
       "      <th>rua</th>\n",
       "      <th>bairro</th>\n",
       "      <th>cidade</th>\n",
       "      <th>estado</th>\n",
       "      <th>CEP</th>\n",
       "      <th>idade</th>\n",
       "    </tr>\n",
       "  </thead>\n",
       "  <tbody>\n",
       "    <tr>\n",
       "      <th>0</th>\n",
       "      <td>1</td>\n",
       "      <td>576.182.430-26</td>\n",
       "      <td>Pedro Sousa</td>\n",
       "      <td>Governador</td>\n",
       "      <td>1973-02-19</td>\n",
       "      <td>Casado(a)</td>\n",
       "      <td>Via Arthur Miguel Vargas\\nVila Jardim São José...</td>\n",
       "      <td>0</td>\n",
       "      <td>Via Arthur Miguel Vargas</td>\n",
       "      <td>Vila Jardim São José</td>\n",
       "      <td>Pereira</td>\n",
       "      <td>AP</td>\n",
       "      <td>45154736</td>\n",
       "      <td>51</td>\n",
       "    </tr>\n",
       "    <tr>\n",
       "      <th>1</th>\n",
       "      <td>2</td>\n",
       "      <td>894.270.316-03</td>\n",
       "      <td>João Felipe Siqueira</td>\n",
       "      <td>Figurinista</td>\n",
       "      <td>1991-04-29</td>\n",
       "      <td>Casado(a)</td>\n",
       "      <td>Fazenda de Pimenta, 39\\nAlta Tensão 1ª Seção\\n...</td>\n",
       "      <td>0</td>\n",
       "      <td>Fazenda de Pimenta</td>\n",
       "      <td>Alta Tensão 1ª Seção</td>\n",
       "      <td>da Conceição da Prata</td>\n",
       "      <td>SC</td>\n",
       "      <td>84161-002</td>\n",
       "      <td>33</td>\n",
       "    </tr>\n",
       "    <tr>\n",
       "      <th>2</th>\n",
       "      <td>3</td>\n",
       "      <td>476.981.053-93</td>\n",
       "      <td>Letícia Cassiano</td>\n",
       "      <td>Designer de produto ou desenhista industrial</td>\n",
       "      <td>1983-10-23</td>\n",
       "      <td>Solteiro(a)</td>\n",
       "      <td>Via de Lima, 2\\nSão Vicente\\n23841-756 Pires d...</td>\n",
       "      <td>0</td>\n",
       "      <td>Via de Lima</td>\n",
       "      <td>São Vicente</td>\n",
       "      <td>Pires de Minas</td>\n",
       "      <td>SC</td>\n",
       "      <td>23841-756</td>\n",
       "      <td>40</td>\n",
       "    </tr>\n",
       "    <tr>\n",
       "      <th>3</th>\n",
       "      <td>4</td>\n",
       "      <td>835.617.024-90</td>\n",
       "      <td>Sr. Pedro Miguel Nunes</td>\n",
       "      <td>Operador de telemarketing</td>\n",
       "      <td>1997-07-15</td>\n",
       "      <td>Casado(a)</td>\n",
       "      <td>Morro de Ferreira, 67\\nSão Bernardo\\n35532640 ...</td>\n",
       "      <td>0</td>\n",
       "      <td>Morro de Ferreira</td>\n",
       "      <td>São Bernardo</td>\n",
       "      <td>Fogaça do Oeste</td>\n",
       "      <td>PI</td>\n",
       "      <td>35532640</td>\n",
       "      <td>26</td>\n",
       "    </tr>\n",
       "    <tr>\n",
       "      <th>4</th>\n",
       "      <td>5</td>\n",
       "      <td>940.532.861-15</td>\n",
       "      <td>Vinicius Pinto</td>\n",
       "      <td>Aviador</td>\n",
       "      <td>2006-05-26</td>\n",
       "      <td>Divorsiado(a)</td>\n",
       "      <td>Viela Maria Luísa Pinto, 73\\nMinas Brasil\\n110...</td>\n",
       "      <td>0</td>\n",
       "      <td>Viela Maria Luísa Pinto</td>\n",
       "      <td>Minas Brasil</td>\n",
       "      <td>Pires</td>\n",
       "      <td>PB</td>\n",
       "      <td>11031656</td>\n",
       "      <td>18</td>\n",
       "    </tr>\n",
       "  </tbody>\n",
       "</table>\n",
       "</div>"
      ],
      "text/plain": [
       "   id             cpf           nome_completo  \\\n",
       "0   1  576.182.430-26             Pedro Sousa   \n",
       "1   2  894.270.316-03    João Felipe Siqueira   \n",
       "2   3  476.981.053-93        Letícia Cassiano   \n",
       "3   4  835.617.024-90  Sr. Pedro Miguel Nunes   \n",
       "4   5  940.532.861-15          Vinicius Pinto   \n",
       "\n",
       "                                  emprego_atual data_nascimento  \\\n",
       "0                                    Governador      1973-02-19   \n",
       "1                                   Figurinista      1991-04-29   \n",
       "2  Designer de produto ou desenhista industrial      1983-10-23   \n",
       "3                     Operador de telemarketing      1997-07-15   \n",
       "4                                       Aviador      2006-05-26   \n",
       "\n",
       "  situacao_civil                                           endereco  \\\n",
       "0      Casado(a)  Via Arthur Miguel Vargas\\nVila Jardim São José...   \n",
       "1      Casado(a)  Fazenda de Pimenta, 39\\nAlta Tensão 1ª Seção\\n...   \n",
       "2    Solteiro(a)  Via de Lima, 2\\nSão Vicente\\n23841-756 Pires d...   \n",
       "3      Casado(a)  Morro de Ferreira, 67\\nSão Bernardo\\n35532640 ...   \n",
       "4  Divorsiado(a)  Viela Maria Luísa Pinto, 73\\nMinas Brasil\\n110...   \n",
       "\n",
       "   cliente_especial                       rua                bairro  \\\n",
       "0                 0  Via Arthur Miguel Vargas  Vila Jardim São José   \n",
       "1                 0        Fazenda de Pimenta  Alta Tensão 1ª Seção   \n",
       "2                 0               Via de Lima           São Vicente   \n",
       "3                 0         Morro de Ferreira          São Bernardo   \n",
       "4                 0   Viela Maria Luísa Pinto          Minas Brasil   \n",
       "\n",
       "                  cidade estado        CEP  idade  \n",
       "0                Pereira     AP   45154736     51  \n",
       "1  da Conceição da Prata     SC  84161-002     33  \n",
       "2         Pires de Minas     SC  23841-756     40  \n",
       "3        Fogaça do Oeste     PI   35532640     26  \n",
       "4                  Pires     PB   11031656     18  "
      ]
     },
     "execution_count": 5,
     "metadata": {},
     "output_type": "execute_result"
    }
   ],
   "source": [
    "df['data_nascimento'] = pd.to_datetime(df['data_nascimento'])\n",
    "hoje = datetime.date.today()\n",
    "df['idade'] = df['data_nascimento'].apply(lambda x: hoje.year - x.year - ((hoje.month, hoje.day) < (x.month, x.day)))\n",
    "df.head()\n"
   ]
  },
  {
   "cell_type": "code",
   "execution_count": 6,
   "metadata": {},
   "outputs": [
    {
     "name": "stdout",
     "output_type": "stream",
     "text": [
      "<class 'pandas.core.frame.DataFrame'>\n",
      "RangeIndex: 5000 entries, 0 to 4999\n",
      "Data columns (total 14 columns):\n",
      " #   Column            Non-Null Count  Dtype         \n",
      "---  ------            --------------  -----         \n",
      " 0   id                5000 non-null   int64         \n",
      " 1   cpf               5000 non-null   object        \n",
      " 2   nome_completo     5000 non-null   object        \n",
      " 3   emprego_atual     5000 non-null   object        \n",
      " 4   data_nascimento   5000 non-null   datetime64[ns]\n",
      " 5   situacao_civil    5000 non-null   object        \n",
      " 6   endereco          5000 non-null   object        \n",
      " 7   cliente_especial  5000 non-null   int64         \n",
      " 8   rua               5000 non-null   object        \n",
      " 9   bairro            5000 non-null   object        \n",
      " 10  cidade            5000 non-null   object        \n",
      " 11  estado            5000 non-null   object        \n",
      " 12  CEP               5000 non-null   object        \n",
      " 13  idade             5000 non-null   int64         \n",
      "dtypes: datetime64[ns](1), int64(3), object(10)\n",
      "memory usage: 547.0+ KB\n"
     ]
    }
   ],
   "source": [
    "df.info()"
   ]
  },
  {
   "cell_type": "code",
   "execution_count": 7,
   "metadata": {},
   "outputs": [
    {
     "data": {
      "text/html": [
       "<div>\n",
       "<style scoped>\n",
       "    .dataframe tbody tr th:only-of-type {\n",
       "        vertical-align: middle;\n",
       "    }\n",
       "\n",
       "    .dataframe tbody tr th {\n",
       "        vertical-align: top;\n",
       "    }\n",
       "\n",
       "    .dataframe thead th {\n",
       "        text-align: right;\n",
       "    }\n",
       "</style>\n",
       "<table border=\"1\" class=\"dataframe\">\n",
       "  <thead>\n",
       "    <tr style=\"text-align: right;\">\n",
       "      <th></th>\n",
       "      <th>id</th>\n",
       "      <th>data_nascimento</th>\n",
       "      <th>cliente_especial</th>\n",
       "      <th>idade</th>\n",
       "    </tr>\n",
       "  </thead>\n",
       "  <tbody>\n",
       "    <tr>\n",
       "      <th>count</th>\n",
       "      <td>5000.000000</td>\n",
       "      <td>5000</td>\n",
       "      <td>5000.000000</td>\n",
       "      <td>5000.000000</td>\n",
       "    </tr>\n",
       "    <tr>\n",
       "      <th>mean</th>\n",
       "      <td>2500.500000</td>\n",
       "      <td>1982-02-21 02:33:30.240000</td>\n",
       "      <td>0.047800</td>\n",
       "      <td>41.772400</td>\n",
       "    </tr>\n",
       "    <tr>\n",
       "      <th>min</th>\n",
       "      <td>1.000000</td>\n",
       "      <td>1958-05-29 00:00:00</td>\n",
       "      <td>0.000000</td>\n",
       "      <td>18.000000</td>\n",
       "    </tr>\n",
       "    <tr>\n",
       "      <th>25%</th>\n",
       "      <td>1250.750000</td>\n",
       "      <td>1970-01-23 18:00:00</td>\n",
       "      <td>0.000000</td>\n",
       "      <td>30.000000</td>\n",
       "    </tr>\n",
       "    <tr>\n",
       "      <th>50%</th>\n",
       "      <td>2500.500000</td>\n",
       "      <td>1981-09-28 00:00:00</td>\n",
       "      <td>0.000000</td>\n",
       "      <td>42.000000</td>\n",
       "    </tr>\n",
       "    <tr>\n",
       "      <th>75%</th>\n",
       "      <td>3750.250000</td>\n",
       "      <td>1994-02-14 12:00:00</td>\n",
       "      <td>0.000000</td>\n",
       "      <td>54.000000</td>\n",
       "    </tr>\n",
       "    <tr>\n",
       "      <th>max</th>\n",
       "      <td>5000.000000</td>\n",
       "      <td>2006-05-26 00:00:00</td>\n",
       "      <td>1.000000</td>\n",
       "      <td>66.000000</td>\n",
       "    </tr>\n",
       "    <tr>\n",
       "      <th>std</th>\n",
       "      <td>1443.520003</td>\n",
       "      <td>NaN</td>\n",
       "      <td>0.213364</td>\n",
       "      <td>13.819189</td>\n",
       "    </tr>\n",
       "  </tbody>\n",
       "</table>\n",
       "</div>"
      ],
      "text/plain": [
       "                id             data_nascimento  cliente_especial        idade\n",
       "count  5000.000000                        5000       5000.000000  5000.000000\n",
       "mean   2500.500000  1982-02-21 02:33:30.240000          0.047800    41.772400\n",
       "min       1.000000         1958-05-29 00:00:00          0.000000    18.000000\n",
       "25%    1250.750000         1970-01-23 18:00:00          0.000000    30.000000\n",
       "50%    2500.500000         1981-09-28 00:00:00          0.000000    42.000000\n",
       "75%    3750.250000         1994-02-14 12:00:00          0.000000    54.000000\n",
       "max    5000.000000         2006-05-26 00:00:00          1.000000    66.000000\n",
       "std    1443.520003                         NaN          0.213364    13.819189"
      ]
     },
     "execution_count": 7,
     "metadata": {},
     "output_type": "execute_result"
    }
   ],
   "source": [
    "df.describe()"
   ]
  },
  {
   "cell_type": "code",
   "execution_count": 8,
   "metadata": {},
   "outputs": [
    {
     "data": {
      "text/html": [
       "<div>\n",
       "<style scoped>\n",
       "    .dataframe tbody tr th:only-of-type {\n",
       "        vertical-align: middle;\n",
       "    }\n",
       "\n",
       "    .dataframe tbody tr th {\n",
       "        vertical-align: top;\n",
       "    }\n",
       "\n",
       "    .dataframe thead th {\n",
       "        text-align: right;\n",
       "    }\n",
       "</style>\n",
       "<table border=\"1\" class=\"dataframe\">\n",
       "  <thead>\n",
       "    <tr style=\"text-align: right;\">\n",
       "      <th></th>\n",
       "      <th>cpf</th>\n",
       "      <th>nome_completo</th>\n",
       "      <th>emprego_atual</th>\n",
       "      <th>situacao_civil</th>\n",
       "      <th>endereco</th>\n",
       "      <th>rua</th>\n",
       "      <th>bairro</th>\n",
       "      <th>cidade</th>\n",
       "      <th>estado</th>\n",
       "      <th>CEP</th>\n",
       "    </tr>\n",
       "  </thead>\n",
       "  <tbody>\n",
       "    <tr>\n",
       "      <th>count</th>\n",
       "      <td>5000</td>\n",
       "      <td>5000</td>\n",
       "      <td>5000</td>\n",
       "      <td>5000</td>\n",
       "      <td>5000</td>\n",
       "      <td>5000</td>\n",
       "      <td>5000</td>\n",
       "      <td>5000</td>\n",
       "      <td>5000</td>\n",
       "      <td>5000</td>\n",
       "    </tr>\n",
       "    <tr>\n",
       "      <th>unique</th>\n",
       "      <td>5000</td>\n",
       "      <td>4709</td>\n",
       "      <td>749</td>\n",
       "      <td>3</td>\n",
       "      <td>5000</td>\n",
       "      <td>4443</td>\n",
       "      <td>482</td>\n",
       "      <td>1968</td>\n",
       "      <td>27</td>\n",
       "      <td>5000</td>\n",
       "    </tr>\n",
       "    <tr>\n",
       "      <th>top</th>\n",
       "      <td>576.182.430-26</td>\n",
       "      <td>Eduardo Moraes</td>\n",
       "      <td>Artista plástico</td>\n",
       "      <td>Casado(a)</td>\n",
       "      <td>Via Arthur Miguel Vargas\\nVila Jardim São José...</td>\n",
       "      <td>Fazenda Macedo</td>\n",
       "      <td>Alípio De Melo</td>\n",
       "      <td>Pereira</td>\n",
       "      <td>CE</td>\n",
       "      <td>45154736</td>\n",
       "    </tr>\n",
       "    <tr>\n",
       "      <th>freq</th>\n",
       "      <td>1</td>\n",
       "      <td>3</td>\n",
       "      <td>17</td>\n",
       "      <td>1696</td>\n",
       "      <td>1</td>\n",
       "      <td>4</td>\n",
       "      <td>21</td>\n",
       "      <td>37</td>\n",
       "      <td>210</td>\n",
       "      <td>1</td>\n",
       "    </tr>\n",
       "  </tbody>\n",
       "</table>\n",
       "</div>"
      ],
      "text/plain": [
       "                   cpf   nome_completo     emprego_atual situacao_civil  \\\n",
       "count             5000            5000              5000           5000   \n",
       "unique            5000            4709               749              3   \n",
       "top     576.182.430-26  Eduardo Moraes  Artista plástico      Casado(a)   \n",
       "freq                 1               3                17           1696   \n",
       "\n",
       "                                                 endereco             rua  \\\n",
       "count                                                5000            5000   \n",
       "unique                                               5000            4443   \n",
       "top     Via Arthur Miguel Vargas\\nVila Jardim São José...  Fazenda Macedo   \n",
       "freq                                                    1               4   \n",
       "\n",
       "                bairro   cidade estado       CEP  \n",
       "count             5000     5000   5000      5000  \n",
       "unique             482     1968     27      5000  \n",
       "top     Alípio De Melo  Pereira     CE  45154736  \n",
       "freq                21       37    210         1  "
      ]
     },
     "execution_count": 8,
     "metadata": {},
     "output_type": "execute_result"
    }
   ],
   "source": [
    "df.select_dtypes(include = 'object').describe()"
   ]
  },
  {
   "cell_type": "code",
   "execution_count": 9,
   "metadata": {},
   "outputs": [
    {
     "data": {
      "text/plain": [
       "cliente_especial\n",
       "0    4761\n",
       "1     239\n",
       "Name: count, dtype: int64"
      ]
     },
     "execution_count": 9,
     "metadata": {},
     "output_type": "execute_result"
    }
   ],
   "source": [
    "df['cliente_especial'].value_counts()\n"
   ]
  },
  {
   "cell_type": "code",
   "execution_count": 4,
   "metadata": {},
   "outputs": [
    {
     "data": {
      "text/html": [
       "<div>\n",
       "<style scoped>\n",
       "    .dataframe tbody tr th:only-of-type {\n",
       "        vertical-align: middle;\n",
       "    }\n",
       "\n",
       "    .dataframe tbody tr th {\n",
       "        vertical-align: top;\n",
       "    }\n",
       "\n",
       "    .dataframe thead th {\n",
       "        text-align: right;\n",
       "    }\n",
       "</style>\n",
       "<table border=\"1\" class=\"dataframe\">\n",
       "  <thead>\n",
       "    <tr style=\"text-align: right;\">\n",
       "      <th></th>\n",
       "      <th>emprego_atual</th>\n",
       "      <th>idade</th>\n",
       "      <th>situacao_civil</th>\n",
       "      <th>bairro</th>\n",
       "      <th>cidade</th>\n",
       "      <th>estado</th>\n",
       "      <th>cliente_especial</th>\n",
       "    </tr>\n",
       "  </thead>\n",
       "  <tbody>\n",
       "    <tr>\n",
       "      <th>0</th>\n",
       "      <td>Governador</td>\n",
       "      <td>51</td>\n",
       "      <td>Casado(a)</td>\n",
       "      <td>Vila Jardim São José</td>\n",
       "      <td>Pereira</td>\n",
       "      <td>AP</td>\n",
       "      <td>0</td>\n",
       "    </tr>\n",
       "    <tr>\n",
       "      <th>1</th>\n",
       "      <td>Figurinista</td>\n",
       "      <td>33</td>\n",
       "      <td>Casado(a)</td>\n",
       "      <td>Alta Tensão 1ª Seção</td>\n",
       "      <td>da Conceição da Prata</td>\n",
       "      <td>SC</td>\n",
       "      <td>0</td>\n",
       "    </tr>\n",
       "    <tr>\n",
       "      <th>2</th>\n",
       "      <td>Designer de produto ou desenhista industrial</td>\n",
       "      <td>40</td>\n",
       "      <td>Solteiro(a)</td>\n",
       "      <td>São Vicente</td>\n",
       "      <td>Pires de Minas</td>\n",
       "      <td>SC</td>\n",
       "      <td>0</td>\n",
       "    </tr>\n",
       "    <tr>\n",
       "      <th>3</th>\n",
       "      <td>Operador de telemarketing</td>\n",
       "      <td>26</td>\n",
       "      <td>Casado(a)</td>\n",
       "      <td>São Bernardo</td>\n",
       "      <td>Fogaça do Oeste</td>\n",
       "      <td>PI</td>\n",
       "      <td>0</td>\n",
       "    </tr>\n",
       "    <tr>\n",
       "      <th>4</th>\n",
       "      <td>Aviador</td>\n",
       "      <td>18</td>\n",
       "      <td>Divorsiado(a)</td>\n",
       "      <td>Minas Brasil</td>\n",
       "      <td>Pires</td>\n",
       "      <td>PB</td>\n",
       "      <td>0</td>\n",
       "    </tr>\n",
       "  </tbody>\n",
       "</table>\n",
       "</div>"
      ],
      "text/plain": [
       "                                  emprego_atual  idade situacao_civil  \\\n",
       "0                                    Governador     51      Casado(a)   \n",
       "1                                   Figurinista     33      Casado(a)   \n",
       "2  Designer de produto ou desenhista industrial     40    Solteiro(a)   \n",
       "3                     Operador de telemarketing     26      Casado(a)   \n",
       "4                                       Aviador     18  Divorsiado(a)   \n",
       "\n",
       "                 bairro                 cidade estado  cliente_especial  \n",
       "0  Vila Jardim São José                Pereira     AP                 0  \n",
       "1  Alta Tensão 1ª Seção  da Conceição da Prata     SC                 0  \n",
       "2           São Vicente         Pires de Minas     SC                 0  \n",
       "3          São Bernardo        Fogaça do Oeste     PI                 0  \n",
       "4          Minas Brasil                  Pires     PB                 0  "
      ]
     },
     "execution_count": 4,
     "metadata": {},
     "output_type": "execute_result"
    }
   ],
   "source": [
    "df_transformado = pd.read_csv('../../data/clientes.csv')\n",
    "df_transformado = df_transformado[['emprego_atual', 'idade', 'situacao_civil', 'bairro', 'cidade', 'estado', 'cliente_especial']]\n",
    "df_transformado.head()"
   ]
  },
  {
   "cell_type": "markdown",
   "metadata": {},
   "source": [
    "# Regressao Logistica "
   ]
  },
  {
   "cell_type": "code",
   "execution_count": 5,
   "metadata": {},
   "outputs": [],
   "source": [
    "X = df_transformado.drop(columns = 'cliente_especial')\n",
    "y = df_transformado['cliente_especial']\n",
    "\n",
    "one_hot_encoder = OneHotEncoder(handle_unknown = 'ignore')\n",
    "X_enc = one_hot_encoder.fit_transform(X.drop(columns =['idade']))\n",
    "\n",
    "smote_bal = SMOTE(random_state = 42)\n",
    "\n",
    "X_bal, y_bal = smote_bal.fit_resample(X_enc, y)\n",
    "\n",
    "\n"
   ]
  },
  {
   "cell_type": "code",
   "execution_count": 6,
   "metadata": {},
   "outputs": [],
   "source": [
    "pipeline = Pipeline(steps = [\n",
    "                ('s_scale', StandardScaler(with_mean=False)),\n",
    "                ('pca', PCA()),\n",
    "                ('reg_log', LogisticRegression())\n",
    "            ])\n",
    "\n",
    "X_train, X_test, y_train, y_test = train_test_split(X_bal, y_bal, test_size = 0.30, random_state = 42)\n"
   ]
  },
  {
   "cell_type": "code",
   "execution_count": 7,
   "metadata": {},
   "outputs": [
    {
     "name": "stdout",
     "output_type": "stream",
     "text": [
      "Melhores hiperparâmetros: {'reg_log__C': 0.1, 'reg_log__max_iter': 500, 'reg_log__solver': 'saga'}\n",
      "Acurácia: 0.9177795780778558\n"
     ]
    }
   ],
   "source": [
    "param_grid = {\n",
    "                'reg_log__C': [0.1, 1, 10],\n",
    "                'reg_log__solver': ['liblinear', 'saga'],\n",
    "                'reg_log__max_iter': [500, 1000]\n",
    "                }\n",
    "            \n",
    "grid_search = GridSearchCV(pipeline, param_grid, cv=2, scoring='accuracy', n_jobs = -1)\n",
    "grid_search.fit(X_train, y_train)\n",
    "\n",
    "            \n",
    "print(\"Melhores hiperparâmetros:\", grid_search.best_params_)\n",
    "print(\"Acurácia:\", grid_search.best_score_)"
   ]
  },
  {
   "cell_type": "code",
   "execution_count": 8,
   "metadata": {},
   "outputs": [
    {
     "name": "stdout",
     "output_type": "stream",
     "text": [
      "0.9450472523626181\n"
     ]
    }
   ],
   "source": [
    "best_model = grid_search.best_estimator_\n",
    "\n",
    "modelo = best_model.fit(X_train, y_train)\n",
    "    \n",
    "\n",
    "modelo_score = modelo.score(X_test, y_test)\n",
    "print(modelo_score)"
   ]
  },
  {
   "cell_type": "code",
   "execution_count": 9,
   "metadata": {},
   "outputs": [
    {
     "name": "stdout",
     "output_type": "stream",
     "text": [
      "classification report               precision    recall  f1-score   support\n",
      "\n",
      "           0       1.00      0.89      0.94      1429\n",
      "           1       0.90      1.00      0.95      1428\n",
      "\n",
      "    accuracy                           0.95      2857\n",
      "   macro avg       0.95      0.95      0.94      2857\n",
      "weighted avg       0.95      0.95      0.94      2857\n",
      "\n"
     ]
    }
   ],
   "source": [
    "predict = modelo.predict(X_test)\n",
    "report = classification_report(y_test, predict)\n",
    "print(\"classification report\", report)"
   ]
  },
  {
   "cell_type": "code",
   "execution_count": 10,
   "metadata": {},
   "outputs": [
    {
     "data": {
      "image/png": "[encoded data removed]",
      "text/plain": [
       "<Figure size 600x600 with 1 Axes>"
      ]
     },
     "metadata": {},
     "output_type": "display_data"
    },
    {
     "name": "stdout",
     "output_type": "stream",
     "text": [
      "area sob a curva:  0.9860708454130428\n"
     ]
    }
   ],
   "source": [
    "y_score = modelo.predict_proba(X_test)\n",
    "fpr, tpr, threshold = roc_curve(y_test, y_score[:, 1])\n",
    "fig = plt.figure(figsize = (6, 6))\n",
    "plt.plot([0, 1], [0, 1], 'k--')\n",
    "plt.plot(fpr, tpr, label = \"Regressao Logistica\")\n",
    "plt.xlabel('Falso Positivo')\n",
    "plt.ylabel('Verdadeiro Positivo')\n",
    "plt.title('Curva ROC')\n",
    "plt.legend(loc=\"lower right\", fontsize=16)\n",
    "plt.show()\n",
    "print('area sob a curva: ', auc(fpr, tpr))"
   ]
  },
  {
   "cell_type": "code",
   "execution_count": 11,
   "metadata": {},
   "outputs": [
    {
     "data": {
      "image/png": "[encoded data removed]",
      "text/plain": [
       "<Figure size 800x600 with 2 Axes>"
      ]
     },
     "metadata": {},
     "output_type": "display_data"
    }
   ],
   "source": [
    "conf_matrix = confusion_matrix(y_test, predict)\n",
    "\n",
    "plt.figure(figsize=(8, 6))\n",
    "sns.heatmap(conf_matrix, annot=True, fmt=\"d\", cmap=\"Greens\")\n",
    "plt.xlabel('Preditos')\n",
    "plt.ylabel('Verdadeiros')\n",
    "plt.title('Matriz de confusao')\n",
    "plt.show()"
   ]
  },
  {
   "cell_type": "markdown",
   "metadata": {},
   "source": [
    "# SVM"
   ]
  },
  {
   "cell_type": "code",
   "execution_count": 18,
   "metadata": {},
   "outputs": [],
   "source": [
    "from sklearn.svm import SVC"
   ]
  },
  {
   "cell_type": "code",
   "execution_count": 20,
   "metadata": {},
   "outputs": [],
   "source": [
    "X = df_transformado.drop(columns = 'cliente_especial')\n",
    "y = df_transformado['cliente_especial']\n",
    "\n",
    "one_hot_encoder = OneHotEncoder(handle_unknown = 'ignore')\n",
    "X_enc = one_hot_encoder.fit_transform(X.drop(columns =['idade']))\n",
    "\n",
    "smote_bal = SMOTE(random_state = 42)\n",
    "\n",
    "X_bal, y_bal = smote_bal.fit_resample(X_enc, y)"
   ]
  },
  {
   "cell_type": "code",
   "execution_count": 21,
   "metadata": {},
   "outputs": [],
   "source": [
    "pipeline = Pipeline(steps = [\n",
    "                ('s_scaler', StandardScaler(with_mean=False)),\n",
    "                ('pca', PCA()),\n",
    "                ('svm', SVC())\n",
    "            ])\n",
    "\n",
    "X_train, X_test, y_train, y_test = train_test_split(X_bal, y_bal, test_size = 0.30, random_state = 42)"
   ]
  },
  {
   "cell_type": "code",
   "execution_count": 22,
   "metadata": {},
   "outputs": [
    {
     "name": "stdout",
     "output_type": "stream",
     "text": [
      "Melhores hiperparâmetros: {'svm__C': 10, 'svm__gamma': 'scale', 'svm__kernel': 'rbf'}\n",
      "Acurácia: 0.9522159210249947\n"
     ]
    }
   ],
   "source": [
    "param_grid = {\n",
    "    'svm__C': [0.1, 1, 10],\n",
    "    'svm__gamma': ['scale'],\n",
    "    'svm__kernel': ['linear', 'rbf'] \n",
    "}\n",
    "           \n",
    "grid_search = GridSearchCV(pipeline, param_grid, cv=2, scoring='accuracy')\n",
    "grid_search.fit(X_bal, y_bal)\n",
    "           \n",
    "print(\"Melhores hiperparâmetros:\", grid_search.best_params_)\n",
    "print(\"Acurácia:\", grid_search.best_score_)\n",
    "best_model = grid_search.best_estimator_"
   ]
  },
  {
   "cell_type": "code",
   "execution_count": 26,
   "metadata": {},
   "outputs": [
    {
     "name": "stdout",
     "output_type": "stream",
     "text": [
      "0.9674483724186209\n"
     ]
    }
   ],
   "source": [
    "modelo = best_model.fit(X_train, y_train)\n",
    "modelo_score = modelo.score(X_test, y_test)\n",
    "print(modelo_score)"
   ]
  },
  {
   "cell_type": "code",
   "execution_count": 27,
   "metadata": {},
   "outputs": [
    {
     "name": "stdout",
     "output_type": "stream",
     "text": [
      "classification report                precision    recall  f1-score   support\n",
      "\n",
      "           0       1.00      0.94      0.97      1429\n",
      "           1       0.94      1.00      0.97      1428\n",
      "\n",
      "    accuracy                           0.97      2857\n",
      "   macro avg       0.97      0.97      0.97      2857\n",
      "weighted avg       0.97      0.97      0.97      2857\n",
      "\n"
     ]
    }
   ],
   "source": [
    "predict = modelo.predict(X_test)\n",
    "report = classification_report(y_test, predict)\n",
    "print(\"classification report \", report)"
   ]
  },
  {
   "cell_type": "code",
   "execution_count": 29,
   "metadata": {},
   "outputs": [
    {
     "data": {
      "image/png": "[encoded data removed]",
      "text/plain": [
       "<Figure size 800x600 with 2 Axes>"
      ]
     },
     "metadata": {},
     "output_type": "display_data"
    }
   ],
   "source": [
    "conf_matrix = confusion_matrix(y_test, predict)\n",
    "plt.figure(figsize=(8, 6))\n",
    "sns.heatmap(conf_matrix, annot=True, fmt=\"d\", cmap=\"Greens\")\n",
    "plt.xlabel('Preditos')\n",
    "plt.ylabel('Verdadeiros')\n",
    "plt.title('Matriz de confusao')\n",
    "plt.show()"
   ]
  },
  {
   "cell_type": "markdown",
   "metadata": {},
   "source": [
    "# Arvore de Decisao"
   ]
  },
  {
   "cell_type": "code",
   "execution_count": 30,
   "metadata": {},
   "outputs": [],
   "source": [
    "from sklearn.tree import DecisionTreeClassifier \n",
    "from sklearn.tree import plot_tree"
   ]
  },
  {
   "cell_type": "code",
   "execution_count": 31,
   "metadata": {},
   "outputs": [],
   "source": [
    "X = df_transformado.drop(columns = 'cliente_especial')\n",
    "y = df_transformado['cliente_especial']\n",
    "\n",
    "one_hot_encoder = OneHotEncoder(handle_unknown = 'ignore')\n",
    "X_enc = one_hot_encoder.fit_transform(X.drop(columns =['idade']))\n",
    "\n",
    "smote_bal = SMOTE(random_state = 42)\n",
    "\n",
    "X_bal, y_bal = smote_bal.fit_resample(X_enc, y)"
   ]
  },
  {
   "cell_type": "code",
   "execution_count": 32,
   "metadata": {},
   "outputs": [],
   "source": [
    "pipeline = Pipeline(steps= [\n",
    "            ('s_scaler', StandardScaler(with_mean=False)),\n",
    "            ('pca', PCA()),\n",
    "            ('tree', DecisionTreeClassifier()) \n",
    "        ])\n",
    "\n",
    "X_train, X_test, y_train, y_test = train_test_split(X_bal, y_bal, test_size = 0.30, random_state = 42)"
   ]
  },
  {
   "cell_type": "code",
   "execution_count": 33,
   "metadata": {},
   "outputs": [
    {
     "name": "stdout",
     "output_type": "stream",
     "text": [
      "Melhores hiperparâmetros: {'tree__criterion': 'gini', 'tree__max_depth': None, 'tree__min_samples_leaf': 2, 'tree__min_samples_split': 2}\n",
      "Acurácia: 0.9335329091132403\n"
     ]
    }
   ],
   "source": [
    "param_grid = {\n",
    "    'tree__criterion': ['gini'],  \n",
    "    'tree__max_depth': [None, 10],      \n",
    "    'tree__min_samples_leaf': [1, 2],  \n",
    "    'tree__min_samples_split': [2, 5]\n",
    "}\n",
    "            \n",
    "grid_search = GridSearchCV(pipeline, param_grid, cv=2, scoring='accuracy')\n",
    "grid_search.fit(X_train, y_train)\n",
    "\n",
    "print(\"Melhores hiperparâmetros:\", grid_search.best_params_)\n",
    "print(\"Acurácia:\", grid_search.best_score_) "
   ]
  },
  {
   "cell_type": "code",
   "execution_count": 34,
   "metadata": {},
   "outputs": [],
   "source": [
    "best_model = grid_search.best_estimator_\n",
    "\n",
    "modelo = best_model.fit(X_train, y_train)"
   ]
  },
  {
   "cell_type": "code",
   "execution_count": 35,
   "metadata": {},
   "outputs": [
    {
     "name": "stdout",
     "output_type": "stream",
     "text": [
      "0.9852992649632482\n"
     ]
    }
   ],
   "source": [
    "modelo_score = modelo.score(X_test, y_test)\n",
    "print(modelo_score)"
   ]
  },
  {
   "cell_type": "code",
   "execution_count": 36,
   "metadata": {},
   "outputs": [
    {
     "name": "stdout",
     "output_type": "stream",
     "text": [
      "classification report                precision    recall  f1-score   support\n",
      "\n",
      "           0       0.99      0.98      0.99      1429\n",
      "           1       0.98      0.99      0.99      1428\n",
      "\n",
      "    accuracy                           0.99      2857\n",
      "   macro avg       0.99      0.99      0.99      2857\n",
      "weighted avg       0.99      0.99      0.99      2857\n",
      "\n"
     ]
    }
   ],
   "source": [
    "predict = modelo.predict(X_test)\n",
    "\n",
    "print(\"classification report \", classification_report(y_test, predict))"
   ]
  },
  {
   "cell_type": "code",
   "execution_count": 37,
   "metadata": {},
   "outputs": [
    {
     "data": {
      "image/png": "[encoded data removed]",
      "text/plain": [
       "<Figure size 800x600 with 2 Axes>"
      ]
     },
     "metadata": {},
     "output_type": "display_data"
    }
   ],
   "source": [
    "conf_matrix = confusion_matrix(y_test, predict)\n",
    "plt.figure(figsize=(8, 6))\n",
    "sns.heatmap(conf_matrix, annot=True, fmt=\"d\", cmap=\"Greens\")\n",
    "plt.xlabel('Preditos')\n",
    "plt.ylabel('Verdadeiros')\n",
    "plt.title('Matriz de confusao')\n",
    "plt.show()"
   ]
  },
  {
   "cell_type": "code",
   "execution_count": 39,
   "metadata": {},
   "outputs": [
    {
     "data": {
      "image/png": "[encoded data removed]",
      "text/plain": [
       "<Figure size 1200x800 with 1 Axes>"
      ]
     },
     "metadata": {},
     "output_type": "display_data"
    }
   ],
   "source": [
    "plt.figure(figsize = (12, 8))\n",
    "decision_tree = best_model.named_steps['tree']\n",
    "plot_tree(decision_tree, filled = True)\n",
    "plt.show()\n"
   ]
  },
  {
   "cell_type": "code",
   "execution_count": null,
   "metadata": {},
   "outputs": [],
   "source": []
  }
 ],
 "metadata": {
  "kernelspec": {
   "display_name": "venv",
   "language": "python",
   "name": "python3"
  },
  "language_info": {
   "codemirror_mode": {
    "name": "ipython",
    "version": 3
   },
   "file_extension": ".py",
   "mimetype": "text/x-python",
   "name": "python",
   "nbconvert_exporter": "python",
   "pygments_lexer": "ipython3",
   "version": "3.11.5"
  }
 },
 "nbformat": 4,
 "nbformat_minor": 2
}
